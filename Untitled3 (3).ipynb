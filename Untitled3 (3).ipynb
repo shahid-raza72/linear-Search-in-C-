{
  "nbformat": 4,
  "nbformat_minor": 0,
  "metadata": {
    "colab": {
      "name": "Untitled3.ipynb",
      "provenance": [],
      "collapsed_sections": []
    },
    "kernelspec": {
      "name": "python3",
      "display_name": "Python 3"
    },
    "language_info": {
      "name": "python"
    }
  },
  "cells": [
    {
      "cell_type": "code",
      "metadata": {
        "colab": {
          "base_uri": "https://localhost:8080/"
        },
        "id": "odB5TEmlgYGv",
        "outputId": "b44bb0f0-960d-4f7c-d5e3-4efa1403a5ee"
      },
      "source": [
        "import nltk\n",
        "import pandas as pd\n",
        "# nltk.download()\n",
        "from nltk.tokenize import word_tokenize\n",
        "from nltk.corpus import stopwords\n",
        "import re\n",
        "# nltk.download('punkt')\n",
        "from nltk.stem.wordnet import WordNetLemmatizer \n",
        "nltk.download('wordnet')\n",
        "# nltk.download('stopwords')"
      ],
      "execution_count": 8,
      "outputs": [
        {
          "output_type": "stream",
          "text": [
            "[nltk_data] Downloading package wordnet to /root/nltk_data...\n",
            "[nltk_data]   Unzipping corpora/wordnet.zip.\n"
          ],
          "name": "stdout"
        },
        {
          "output_type": "execute_result",
          "data": {
            "text/plain": [
              "True"
            ]
          },
          "metadata": {
            "tags": []
          },
          "execution_count": 8
        }
      ]
    },
    {
      "cell_type": "code",
      "metadata": {
        "id": "82_g-4thiDQL"
      },
      "source": [
        "df  = pd.read_csv('nlpfile.csv', dtype=str)\n",
        "\n",
        "df['Columns name'] = df['Columns name'].str.lower().str.replace(r'[^A-Za-z0-9]+', ' ')\n",
        "stop =set(stopwords.words('english')) \n",
        "df['tokenized_text'] = df['Columns name'].apply(word_tokenize).apply(lambda x: [item for item in x if item not in stop])\n",
        "\n",
        "# print(column_list)\n",
        "\n"
      ],
      "execution_count": 5,
      "outputs": []
    },
    {
      "cell_type": "code",
      "metadata": {
        "id": "VsJTlLR1caex"
      },
      "source": [
        "lmtzr = WordNetLemmatizer()\n",
        "df['lemmatize'] = df['tokenized_text'].apply(\n",
        "                    lambda lst:[lmtzr.lemmatize(word) for word in lst])\n",
        "# print(df['lemmatize'])\n",
        "column_list =list(df['lemmatize']) "
      ],
      "execution_count": 10,
      "outputs": []
    },
    {
      "cell_type": "code",
      "metadata": {
        "colab": {
          "base_uri": "https://localhost:8080/"
        },
        "id": "phLlkCfjjpUH",
        "outputId": "992f967f-4e51-4b67-d03a-b84d77b8ea12"
      },
      "source": [
        "def consolidate(sets):\n",
        "    setlist = [s for s in sets if s]\n",
        "    for i, s1 in enumerate(setlist):\n",
        "        if s1:\n",
        "            for s2 in setlist[i+1:]:\n",
        "                intersection = s1.intersection(s2)\n",
        "                if intersection:\n",
        "                    s2.update(s1)\n",
        "                    s1.clear()\n",
        "                    s1 = s2\n",
        "    return [s for s in setlist if s]\n",
        "\n",
        "def wrapper(seqs):\n",
        "    consolidated = consolidate(map(set, seqs))\n",
        "    groupmap = {x: i for i,seq in enumerate(consolidated) for x in seq}\n",
        "    output = {}\n",
        "    for seq in seqs:\n",
        "        target = output.setdefault(groupmap[seq[0]], [])\n",
        "        target.append(seq)\n",
        "    return list(output.values())\n",
        "grps=[]\n",
        "for i, group in enumerate(wrapper(column_list)):\n",
        "  group\n",
        "  grps.append(group)\n",
        "  # print(grps)\n",
        "l=[]\n",
        "for i in range(len(grps)):\n",
        "  res = list(map(\" \".join, grps[i]))\n",
        "  l.append(res)\n",
        "# print (l)\n",
        "print(l[0])\n"
      ],
      "execution_count": 31,
      "outputs": [
        {
          "output_type": "stream",
          "text": [
            "['complete', 'actual cost', 'actual end date', 'actual spend', 'actual start date', 'ba cost', 'bu depart sponsor manager', 'cost date', 'department', 'department goal', 'department', 'end variance', 'estimated spending system annually', 'fill date dom', 'forecast complete', 'forecasted cost', 'gtrack due date', 'id number', 'ip number method', 'information access confidential proprietary info', 'system usa globally', 'lot disposition', 'manual health description', 'manual health indicator', 'manufacturing site', 'molecule name', 'molecule number', 'npi task', 'npi task2', 'needed date', 'planned cost', 'planned end', 'planned end date', 'planned start', 'planned start date', 'project id', 'project lead', 'project manager', 'purchase equipment using gilead equipment', 'sr status', 'software installed gilead kite system network', 'spend', 'start', 'status', 'supplier system access internal gilead system', 'system access eu resident personal info', 'task status', 'timeline status', 'vendor access needed complete work', 'email first lastname gilead com', 'budget health', 'cost variance', 'sample sending research study', 'project state', 'mta fee service funded research', 'cda invention arise gilead need', 'payment sharing information', 'spend date', 'spend timeline', 'confidential info ci intellectual prop ip', 'gilead kite send compound', 'forcast complete', 'forecasted cost', 'estimated date first service performed', 'estimated saving therm yr', 'site', 'estimated saving yr', 'total contract cost usd', 'contractor need gilead kite vendor badge', 'work started service started', 'nature type service performed', 'vendor remote connect network', 'work performed site', 'short description work performed', 'note', 'requestor email', 'supplier contact email', 'inv lot number', 'estimated saving kwh yr', 'actual end', 'actual start', 'ppm project number department cost center', 'end date', 'start date', 'start timestamp', 'type contract requested', 'request id', 'gilead kite', 'additional note pertinent information', 'dp fill', 'gtrack due date', 'forecasted scheduled', 'end timestamp', 'functional area department', 'task name', 'molecule', 'task due date calculated', 'created', 'created', 'date created', 'row id']\n"
          ],
          "name": "stdout"
        }
      ]
    },
    {
      "cell_type": "code",
      "metadata": {
        "id": "csFIx9C4gFLC"
      },
      "source": [
        "df1 = pd.DataFrame({'samples': l})\n",
        "df2 = df.join(df1 )\n",
        "df2.to_csv('output1.csv')"
      ],
      "execution_count": 32,
      "outputs": []
    },
    {
      "cell_type": "markdown",
      "metadata": {
        "id": "SahhIT6qjZr5"
      },
      "source": [
        ""
      ]
    }
  ]
}